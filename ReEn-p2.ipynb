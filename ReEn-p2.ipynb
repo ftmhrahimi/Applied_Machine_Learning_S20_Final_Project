{
 "cells": [
  {
   "cell_type": "markdown",
   "metadata": {},
   "source": [
    "# Import Libraries"
   ]
  },
  {
   "cell_type": "code",
   "execution_count": 1,
   "metadata": {},
   "outputs": [],
   "source": [
    "import numpy as np\n",
    "import pandas as pd\n",
    "import matplotlib.pyplot as plt\n",
    "import seaborn as sns\n",
    "from sklearn import preprocessing\n",
    "import re"
   ]
  },
  {
   "cell_type": "markdown",
   "metadata": {},
   "source": [
    "# Handle miss values and categorical data"
   ]
  },
  {
   "cell_type": "code",
   "execution_count": 2,
   "metadata": {},
   "outputs": [],
   "source": [
    "TrainData=pd.read_csv(\"train_submissions.csv\")\n",
    "TrainData['user_id'] = TrainData['user_id'].apply(lambda x: re.search(r'\\d+', x).group()).astype(int)\n",
    "TrainData['problem_id'] = TrainData['problem_id'].apply(lambda x: re.search(r'\\d+', x).group()).astype(int)"
   ]
  },
  {
   "cell_type": "code",
   "execution_count": 3,
   "metadata": {},
   "outputs": [],
   "source": [
    "UserData=pd.read_csv(\"user_data.csv\")\n",
    "UserData['user_id'] = UserData['user_id'].apply(lambda x: re.search(r'\\d+', x).group()).astype(int)\n",
    "UserData['country'] = UserData['country'].astype('category')\n",
    "UserData['country'] = UserData['country'].cat.codes #miss value is 0\n",
    "UserData['country']=UserData['country'].replace(-1,0)#miss value replace with 0\n",
    "UserData[\"contribution\"]=(UserData[\"contribution\"]-UserData[\"contribution\"].min())/UserData[\"contribution\"].max()\n",
    "UserData[\"rank\"]=UserData[\"rank\"].replace(['beginner','intermediate','advanced','expert'],[1,2,3,4])\n",
    "#UserData['last_online_time_hours']=UserData['last_online_time_seconds']/3600\n",
    "#UserData['registration_time_hours']=UserData['registration_time_seconds']/3600\n",
    "UserData['last_online_time_seconds']=(UserData['last_online_time_seconds']-UserData['last_online_time_seconds'].min())/(UserData['last_online_time_seconds'].max()-UserData['last_online_time_seconds'].min())\n",
    "UserData['registration_time_seconds']=(UserData['registration_time_seconds']-UserData['registration_time_seconds'].min())/(UserData['registration_time_seconds'].max()-UserData['registration_time_seconds'].min())\n",
    "#UserData=UserData.drop('last_online_time_seconds',axis=1)\n",
    "#UserData=UserData.drop('registration_time_seconds',axis=1)"
   ]
  },
  {
   "cell_type": "code",
   "execution_count": 157,
   "metadata": {},
   "outputs": [],
   "source": [
    "ProblemData=pd.read_csv(\"problem_data.csv\")\n",
    "ProblemData['problem_id'] = ProblemData['problem_id'].apply(lambda x: re.search(r'\\d+', x).group()).astype(int)\n",
    "ProblemData=ProblemData.drop(\"tags\", axis=1)\n",
    "ProblemData.fillna(ProblemData.mean(), inplace=True)\n",
    "ProblemData.dropna(inplace=True)\n",
    "ProblemData[\"level_type\"]=ProblemData[\"level_type\"].replace(['A' ,\"B\",\"C\",\"D\",\"E\",\"F\",\"G\",\"H\",\"I\",\"J\",\"K\",\"L\",\"M\",\"N\"],\n",
    "                                                           [ 1,2,3,4,5,6,7,8,9,10,11,12,13,14])\n",
    "ProblemData['points']=(ProblemData['points']-ProblemData['points'].min())/(ProblemData['points'].max()-ProblemData['points'].min())"
   ]
  },
  {
   "cell_type": "code",
   "execution_count": 158,
   "metadata": {},
   "outputs": [],
   "source": [
    "df=TrainData.set_index('problem_id').join(ProblemData.set_index('problem_id'))\n",
    "df.reset_index(inplace=True)\n",
    "df=df.set_index('user_id').join(UserData.set_index('user_id'))\n",
    "df.reset_index(inplace=True)\n",
    "df.dropna(inplace=True)"
   ]
  },
  {
   "cell_type": "markdown",
   "metadata": {},
   "source": [
    "# Step1: clustering user data"
   ]
  },
  {
   "cell_type": "code",
   "execution_count": 6,
   "metadata": {},
   "outputs": [],
   "source": [
    "from sklearn.cluster import KMeans\n",
    "k = 5\n",
    "kmeans = KMeans(n_clusters=k)\n",
    "y_pred = kmeans.fit_predict(UserData)"
   ]
  },
  {
   "cell_type": "code",
   "execution_count": 7,
   "metadata": {},
   "outputs": [],
   "source": [
    "UserData[\"cluster\"]=y_pred\n",
    "User_clusters=UserData.drop([ 'submission_count', 'problem_solved', 'contribution',\n",
    "       'country', 'follower_count', 'last_online_time_seconds', 'max_rating',\n",
    "       'rating', 'rank', 'registration_time_seconds'],axis=1)"
   ]
  },
  {
   "cell_type": "markdown",
   "metadata": {},
   "source": [
    "# Step2: classification user data and problem data"
   ]
  },
  {
   "cell_type": "code",
   "execution_count": 8,
   "metadata": {},
   "outputs": [],
   "source": [
    "df0=TrainData.set_index('user_id').join(User_clusters.set_index('user_id'))\n",
    "df0.reset_index(inplace=True)\n",
    "df=df0.set_index('problem_id').join(ProblemData.set_index('problem_id'))\n",
    "df.dropna(inplace=True)"
   ]
  },
  {
   "cell_type": "markdown",
   "metadata": {},
   "source": [
    "# Feature selection"
   ]
  },
  {
   "cell_type": "markdown",
   "metadata": {},
   "source": [
    "### 1.SelectKBest"
   ]
  },
  {
   "cell_type": "code",
   "execution_count": 45,
   "metadata": {},
   "outputs": [
    {
     "name": "stdout",
     "output_type": "stream",
     "text": [
      "        Specs        Score\n",
      "2  level_type  3677.159487\n",
      "0     user_id  3540.095351\n",
      "3      points   343.803399\n",
      "1     cluster    28.917763\n"
     ]
    }
   ],
   "source": [
    "from sklearn.feature_selection import SelectKBest\n",
    "from sklearn.feature_selection import chi2\n",
    "X = df.drop([\"attempts_range\"],axis=1)  #independent columns\n",
    "y = df[\"attempts_range\"]    #target column i.e price range\n",
    "#apply SelectKBest class to extract top 10 best features\n",
    "bestfeatures = SelectKBest(score_func=chi2, k=4)\n",
    "fit = bestfeatures.fit(X,y)\n",
    "dfscores = pd.DataFrame(fit.scores_)\n",
    "dfcolumns = pd.DataFrame(X.columns)\n",
    "#concat two dataframes for better visualization \n",
    "featureScores = pd.concat([dfcolumns,dfscores],axis=1)\n",
    "featureScores.columns = ['Specs','Score']  #naming the dataframe columns\n",
    "print(featureScores.nlargest(4,'Score'))  #print 10 best features"
   ]
  },
  {
   "cell_type": "markdown",
   "metadata": {},
   "source": [
    "### 2.Feature Importance"
   ]
  },
  {
   "cell_type": "code",
   "execution_count": 46,
   "metadata": {},
   "outputs": [
    {
     "name": "stderr",
     "output_type": "stream",
     "text": [
      "C:\\Users\\user\\Anaconda3\\lib\\site-packages\\sklearn\\ensemble\\forest.py:245: FutureWarning: The default value of n_estimators will change from 10 in version 0.20 to 100 in 0.22.\n",
      "  \"10 in version 0.20 to 100 in 0.22.\", FutureWarning)\n"
     ]
    },
    {
     "name": "stdout",
     "output_type": "stream",
     "text": [
      "[0.9036814  0.00458799 0.04621059 0.04552002]\n"
     ]
    },
    {
     "data": {
      "image/png": "[encoded data removed]",
      "text/plain": [
       "<Figure size 432x288 with 1 Axes>"
      ]
     },
     "metadata": {
      "needs_background": "light"
     },
     "output_type": "display_data"
    }
   ],
   "source": [
    "from sklearn.ensemble import ExtraTreesClassifier\n",
    "model = ExtraTreesClassifier()\n",
    "model.fit(X,y)\n",
    "print(model.feature_importances_)\n",
    "feat_importances = pd.Series(model.feature_importances_, index=X.columns)\n",
    "feat_importances.nlargest(4).plot(kind='barh')\n",
    "plt.show()"
   ]
  },
  {
   "cell_type": "markdown",
   "metadata": {},
   "source": [
    "### 3.Correlation Matrix with Heatmap"
   ]
  },
  {
   "cell_type": "code",
   "execution_count": 48,
   "metadata": {},
   "outputs": [
    {
     "data": {
      "image/png": "[encoded data removed]",
      "text/plain": [
       "<Figure size 720x720 with 2 Axes>"
      ]
     },
     "metadata": {
      "needs_background": "light"
     },
     "output_type": "display_data"
    }
   ],
   "source": [
    "#df=df.drop(\"user_id\",axis=1)\n",
    "corrmat = df.corr()\n",
    "top_corr_features = corrmat.index\n",
    "plt.figure(figsize=(10,10))\n",
    "#plot heat map\n",
    "g=sns.heatmap(df[top_corr_features].corr(),annot=True,cmap=\"RdYlGn\")"
   ]
  },
  {
   "cell_type": "code",
   "execution_count": 49,
   "metadata": {},
   "outputs": [],
   "source": [
    "X=df.drop(['attempts_range'],axis=1)"
   ]
  },
  {
   "cell_type": "markdown",
   "metadata": {},
   "source": [
    "# Multiclass Classification"
   ]
  },
  {
   "cell_type": "markdown",
   "metadata": {},
   "source": [
    "### 1.SGD Classifer"
   ]
  },
  {
   "cell_type": "code",
   "execution_count": 50,
   "metadata": {},
   "outputs": [
    {
     "data": {
      "text/plain": [
       "SGDClassifier(alpha=0.0001, average=False, class_weight=None,\n",
       "              early_stopping=False, epsilon=0.1, eta0=0.0, fit_intercept=True,\n",
       "              l1_ratio=0.15, learning_rate='optimal', loss='hinge',\n",
       "              max_iter=1000, n_iter_no_change=5, n_jobs=None, penalty='l2',\n",
       "              power_t=0.5, random_state=42, shuffle=True, tol=0.001,\n",
       "              validation_fraction=0.1, verbose=0, warm_start=False)"
      ]
     },
     "execution_count": 50,
     "metadata": {},
     "output_type": "execute_result"
    }
   ],
   "source": [
    "from sklearn.linear_model import SGDClassifier\n",
    "sgd_clf1 = SGDClassifier(random_state=42)\n",
    "sgd_clf1.fit(X, y)\n",
    "\n",
    "scores1 = sgd_clf1.decision_function(np.array(X.iloc[34500]).reshape(1, -1))\n",
    "print(scores1)\n",
    "\n",
    "from sklearn.model_selection import cross_val_score\n",
    "cross_val_score(sgd_clf1, X, y, cv=3, scoring=\"accuracy\")"
   ]
  },
  {
   "cell_type": "markdown",
   "metadata": {},
   "source": [
    "### 2.Random Forest"
   ]
  },
  {
   "cell_type": "code",
   "execution_count": 53,
   "metadata": {},
   "outputs": [
    {
     "name": "stderr",
     "output_type": "stream",
     "text": [
      "C:\\Users\\user\\Anaconda3\\lib\\site-packages\\sklearn\\ensemble\\forest.py:245: FutureWarning: The default value of n_estimators will change from 10 in version 0.20 to 100 in 0.22.\n",
      "  \"10 in version 0.20 to 100 in 0.22.\", FutureWarning)\n"
     ]
    },
    {
     "data": {
      "text/plain": [
       "RandomForestClassifier(bootstrap=True, class_weight=None, criterion='gini',\n",
       "                       max_depth=None, max_features='auto', max_leaf_nodes=None,\n",
       "                       min_impurity_decrease=0.0, min_impurity_split=None,\n",
       "                       min_samples_leaf=1, min_samples_split=2,\n",
       "                       min_weight_fraction_leaf=0.0, n_estimators=10,\n",
       "                       n_jobs=None, oob_score=False, random_state=42, verbose=0,\n",
       "                       warm_start=False)"
      ]
     },
     "execution_count": 53,
     "metadata": {},
     "output_type": "execute_result"
    }
   ],
   "source": [
    "from sklearn.ensemble import RandomForestClassifier\n",
    "forest_clf1 = RandomForestClassifier(random_state=42)\n",
    "forest_clf1.fit(X, y)"
   ]
  },
  {
   "cell_type": "code",
   "execution_count": 54,
   "metadata": {},
   "outputs": [
    {
     "data": {
      "text/plain": [
       "array([[0.65592949, 0.19843559, 0.        , 0.        , 0.14563492,\n",
       "        0.        ]])"
      ]
     },
     "execution_count": 54,
     "metadata": {},
     "output_type": "execute_result"
    }
   ],
   "source": [
    "forest_clf1.predict_proba(np.array(X.iloc[34500]).reshape(1, -1))"
   ]
  },
  {
   "cell_type": "code",
   "execution_count": 55,
   "metadata": {},
   "outputs": [
    {
     "data": {
      "text/plain": [
       "array([0.46669037, 0.4675459 , 0.47499596, 0.47029159, 0.47079171])"
      ]
     },
     "execution_count": 55,
     "metadata": {},
     "output_type": "execute_result"
    }
   ],
   "source": [
    "cross_val_score(forest_clf1, X, y, cv=5, scoring=\"accuracy\")"
   ]
  },
  {
   "cell_type": "markdown",
   "metadata": {},
   "source": [
    "# Error Analysis"
   ]
  },
  {
   "cell_type": "code",
   "execution_count": 56,
   "metadata": {},
   "outputs": [
    {
     "data": {
      "text/plain": [
       "array([[58548, 18023,  3379,  1242,   537,   747],\n",
       "       [30033, 12377,  2711,   977,   432,   605],\n",
       "       [ 8137,  4173,   975,   387,   180,   230],\n",
       "       [ 2994,  1684,   429,   162,    83,   126],\n",
       "       [ 1315,   758,   203,   104,    38,    66],\n",
       "       [ 1543,   915,   277,   127,    69,    89]], dtype=int64)"
      ]
     },
     "execution_count": 56,
     "metadata": {},
     "output_type": "execute_result"
    }
   ],
   "source": [
    "from sklearn.model_selection import cross_val_predict\n",
    "from sklearn.metrics import confusion_matrix\n",
    "y_pred1 = cross_val_predict(forest_clf1, X, y, cv=3)\n",
    "conf_mx1 = confusion_matrix(y, y_pred1)\n",
    "conf_mx1"
   ]
  },
  {
   "cell_type": "code",
   "execution_count": 57,
   "metadata": {},
   "outputs": [
    {
     "data": {
      "image/png": "[encoded data removed]",
      "text/plain": [
       "<Figure size 288x288 with 1 Axes>"
      ]
     },
     "metadata": {
      "needs_background": "light"
     },
     "output_type": "display_data"
    }
   ],
   "source": [
    "plt.matshow(conf_mx1, cmap=plt.cm.gray)\n",
    "plt.show()"
   ]
  },
  {
   "cell_type": "code",
   "execution_count": 58,
   "metadata": {},
   "outputs": [
    {
     "data": {
      "text/plain": [
       "array([[81021,   727,   353,   362,     0,    13],\n",
       "       [46081,   573,   256,   217,     0,     8],\n",
       "       [13709,   203,   100,    68,     0,     2],\n",
       "       [ 5308,    98,    38,    32,     0,     2],\n",
       "       [ 2402,    46,    21,    15,     0,     0],\n",
       "       [ 2909,    53,    31,    25,     0,     2]], dtype=int64)"
      ]
     },
     "execution_count": 58,
     "metadata": {},
     "output_type": "execute_result"
    }
   ],
   "source": [
    "y_pred3 = cross_val_predict(sgd_clf1, X, y, cv=3)\n",
    "conf_mx3 = confusion_matrix(y, y_pred3)\n",
    "conf_mx3"
   ]
  },
  {
   "cell_type": "code",
   "execution_count": 59,
   "metadata": {},
   "outputs": [
    {
     "data": {
      "image/png": "[encoded data removed]",
      "text/plain": [
       "<Figure size 288x288 with 1 Axes>"
      ]
     },
     "metadata": {
      "needs_background": "light"
     },
     "output_type": "display_data"
    }
   ],
   "source": [
    "plt.matshow(conf_mx3, cmap=plt.cm.gray)\n",
    "plt.show()"
   ]
  },
  {
   "cell_type": "markdown",
   "metadata": {},
   "source": [
    "# Resampling"
   ]
  },
  {
   "cell_type": "code",
   "execution_count": 9,
   "metadata": {},
   "outputs": [],
   "source": [
    "from sklearn.utils import resample"
   ]
  },
  {
   "cell_type": "code",
   "execution_count": 10,
   "metadata": {},
   "outputs": [],
   "source": [
    "class6 = df[df.attempts_range==6]\n",
    "class5 = df[df.attempts_range==5]\n",
    "class4 = df[df.attempts_range==4]\n",
    "class3 = df[df.attempts_range==3]\n",
    "class2 = df[df.attempts_range==2]\n",
    "class1 = df[df.attempts_range==1]\n",
    "avr=len(class1)"
   ]
  },
  {
   "cell_type": "markdown",
   "metadata": {},
   "source": [
    "## (a) Oversampling Minority Class"
   ]
  },
  {
   "cell_type": "code",
   "execution_count": 11,
   "metadata": {},
   "outputs": [],
   "source": [
    "class6_upsampled = resample(class6,replace=True,n_samples=avr,random_state=27)\n",
    "class5_upsampled = resample(class5,replace=True,n_samples=avr,random_state=27)\n",
    "class4_upsampled = resample(class4,replace=True,n_samples=avr,random_state=27)\n",
    "class3_upsampled = resample(class3,replace=True,n_samples=avr,random_state=27)\n",
    "class2_upsampled = resample(class3,replace=True,n_samples=avr,random_state=27)\n",
    "df2= pd.concat([class1,class2_upsampled,class3_upsampled,class4_upsampled,class5_upsampled,class6_upsampled])"
   ]
  },
  {
   "cell_type": "markdown",
   "metadata": {},
   "source": [
    "### Random Forest"
   ]
  },
  {
   "cell_type": "code",
   "execution_count": 12,
   "metadata": {},
   "outputs": [
    {
     "data": {
      "text/plain": [
       "RandomForestClassifier(random_state=42)"
      ]
     },
     "execution_count": 12,
     "metadata": {},
     "output_type": "execute_result"
    }
   ],
   "source": [
    "X=df2.drop(['attempts_range'],axis=1)\n",
    "y=df2[\"attempts_range\"]\n",
    "from sklearn.ensemble import RandomForestClassifier\n",
    "forest_clf1 = RandomForestClassifier(random_state=42)\n",
    "forest_clf1.fit(X, y)"
   ]
  },
  {
   "cell_type": "code",
   "execution_count": 16,
   "metadata": {},
   "outputs": [
    {
     "data": {
      "text/plain": [
       "array([0.7536576 , 0.75077548, 0.7533823 , 0.75826252, 0.75323074])"
      ]
     },
     "execution_count": 16,
     "metadata": {},
     "output_type": "execute_result"
    }
   ],
   "source": [
    "from sklearn.model_selection import cross_val_score\n",
    "cross_val_score(forest_clf1, X, y, cv=5, scoring=\"accuracy\")"
   ]
  },
  {
   "cell_type": "code",
   "execution_count": 17,
   "metadata": {},
   "outputs": [
    {
     "name": "stdout",
     "output_type": "stream",
     "text": [
      "[[ 37455  24721   8458   6373   5469]\n",
      " [  4617 130898   9216  11110   9111]\n",
      " [  1539  11258  57260   6792   5627]\n",
      " [   167   3397   1485  74501   2926]\n",
      " [    30   4299   1630   4598  71919]]\n"
     ]
    },
    {
     "data": {
      "image/png": "[encoded data removed]",
      "text/plain": [
       "<Figure size 288x288 with 1 Axes>"
      ]
     },
     "metadata": {
      "needs_background": "light"
     },
     "output_type": "display_data"
    }
   ],
   "source": [
    "from sklearn.model_selection import cross_val_predict\n",
    "from sklearn.metrics import confusion_matrix\n",
    "y_pred1 = cross_val_predict(forest_clf1, X, y, cv=3)\n",
    "conf_mx1 = confusion_matrix(y, y_pred1)\n",
    "print(conf_mx1)\n",
    "plt.matshow(conf_mx1, cmap=plt.cm.gray)\n",
    "plt.show()"
   ]
  },
  {
   "cell_type": "markdown",
   "metadata": {},
   "source": [
    "## (b) Undersampling Majority Class"
   ]
  },
  {
   "cell_type": "code",
   "execution_count": 22,
   "metadata": {},
   "outputs": [],
   "source": [
    "k=len(class5)\n",
    "class6_undersampled = resample(class6,replace=True,n_samples=k,random_state=27)\n",
    "class4_undersampled = resample(class4,replace=True,n_samples=k,random_state=27)\n",
    "class3_undersampled = resample(class3,replace=True,n_samples=k,random_state=27)\n",
    "class2_undersampled = resample(class3,replace=True,n_samples=k,random_state=27)\n",
    "class1_undersampled = resample(class1,replace=True,n_samples=k,random_state=27)\n",
    "df3= pd.concat([class5,class1_undersampled,class2_undersampled,class3_undersampled,class4_undersampled,class6_undersampled])"
   ]
  },
  {
   "cell_type": "markdown",
   "metadata": {},
   "source": [
    "###  Random forest"
   ]
  },
  {
   "cell_type": "code",
   "execution_count": 19,
   "metadata": {},
   "outputs": [
    {
     "data": {
      "text/plain": [
       "RandomForestClassifier(random_state=42)"
      ]
     },
     "execution_count": 19,
     "metadata": {},
     "output_type": "execute_result"
    }
   ],
   "source": [
    "X=df3.drop(['attempts_range'],axis=1)\n",
    "y=df3[\"attempts_range\"]\n",
    "from sklearn.ensemble import RandomForestClassifier\n",
    "forest_clf = RandomForestClassifier(random_state=42)\n",
    "forest_clf.fit(X, y)"
   ]
  },
  {
   "cell_type": "code",
   "execution_count": 20,
   "metadata": {},
   "outputs": [
    {
     "data": {
      "text/plain": [
       "array([0.53270715, 0.53740356, 0.54142905, 0.52767528, 0.52718121])"
      ]
     },
     "execution_count": 20,
     "metadata": {},
     "output_type": "execute_result"
    }
   ],
   "source": [
    "from sklearn.model_selection import cross_val_score\n",
    "cross_val_score(forest_clf1, X, y, cv=5, scoring=\"accuracy\")"
   ]
  },
  {
   "cell_type": "code",
   "execution_count": 21,
   "metadata": {},
   "outputs": [
    {
     "name": "stdout",
     "output_type": "stream",
     "text": [
      "[[ 698  701  381  400  304]\n",
      " [ 117 4519  136  101   95]\n",
      " [ 350  588  897  366  283]\n",
      " [ 403  718  434  487  442]\n",
      " [ 253  441  269  315 1206]]\n"
     ]
    },
    {
     "data": {
      "image/png": "[encoded data removed]",
      "text/plain": [
       "<Figure size 288x288 with 1 Axes>"
      ]
     },
     "metadata": {
      "needs_background": "light"
     },
     "output_type": "display_data"
    }
   ],
   "source": [
    "from sklearn.model_selection import cross_val_predict\n",
    "from sklearn.metrics import confusion_matrix\n",
    "y_pred1 = cross_val_predict(forest_clf1, X, y, cv=3)\n",
    "conf_mx1 = confusion_matrix(y, y_pred1)\n",
    "print(conf_mx1)\n",
    "plt.matshow(conf_mx1, cmap=plt.cm.gray)\n",
    "plt.show()"
   ]
  },
  {
   "cell_type": "code",
   "execution_count": 24,
   "metadata": {},
   "outputs": [],
   "source": [
    "TestData=pd.read_csv(\"test_submissions.csv\")\n",
    "TestData['user_id'] = TestData['user_id'].apply(lambda x: re.search(r'\\d+', x).group()).astype(int)\n",
    "TestData['problem_id'] = TestData['problem_id'].apply(lambda x: re.search(r'\\d+', x).group()).astype(int)"
   ]
  },
  {
   "cell_type": "code",
   "execution_count": 72,
   "metadata": {},
   "outputs": [],
   "source": [
    "TestDf=TestData.set_index('user_id').join(UserData.set_index('user_id'))\n",
    "TestDf.reset_index(inplace=True)\n",
    "Test_problem_user_label=TestDf.drop(['ID', 'submission_count', 'problem_solved',\n",
    "       'contribution', 'country', 'follower_count', 'last_online_time_seconds',\n",
    "       'max_rating', 'rating', 'rank', 'registration_time_seconds'],axis=1)"
   ]
  },
  {
   "cell_type": "code",
   "execution_count": 147,
   "metadata": {},
   "outputs": [],
   "source": [
    "DF=Test_problem_user_label.set_index('problem_id').join(ProblemData.set_index('problem_id'))"
   ]
  },
  {
   "cell_type": "code",
   "execution_count": 148,
   "metadata": {},
   "outputs": [
    {
     "data": {
      "text/plain": [
       "user_id       0\n",
       "cluster       0\n",
       "level_type    0\n",
       "points        0\n",
       "dtype: int64"
      ]
     },
     "execution_count": 148,
     "metadata": {},
     "output_type": "execute_result"
    }
   ],
   "source": [
    "DF.fillna(ProblemData.mean(), inplace=True)\n",
    "DF.isnull().sum()"
   ]
  },
  {
   "cell_type": "code",
   "execution_count": 86,
   "metadata": {},
   "outputs": [
    {
     "data": {
      "text/plain": [
       "RandomForestClassifier(random_state=42)"
      ]
     },
     "execution_count": 86,
     "metadata": {},
     "output_type": "execute_result"
    }
   ],
   "source": [
    "X=df2.drop(['attempts_range'],axis=1)\n",
    "y=df2[\"attempts_range\"]\n",
    "from sklearn.ensemble import RandomForestClassifier\n",
    "forest_clf1 = RandomForestClassifier(random_state=42)\n",
    "forest_clf1.fit(X, y)"
   ]
  },
  {
   "cell_type": "code",
   "execution_count": 149,
   "metadata": {},
   "outputs": [],
   "source": [
    "DF[\"attempts_range\"]=forest_clf1.predict(DF)"
   ]
  },
  {
   "cell_type": "code",
   "execution_count": 151,
   "metadata": {},
   "outputs": [],
   "source": [
    "DF[\"user_id\"]=\"user_\"+DF[\"user_id\"].astype(str)"
   ]
  },
  {
   "cell_type": "code",
   "execution_count": 152,
   "metadata": {},
   "outputs": [],
   "source": [
    "DF.reset_index(inplace=True)\n",
    "DF[\"problem_id\"]=\"_prob_\"+DF[\"problem_id\"].astype(str)"
   ]
  },
  {
   "cell_type": "code",
   "execution_count": 153,
   "metadata": {},
   "outputs": [],
   "source": [
    "DF[\"ID\"]=DF[\"user_id\"]+DF[\"problem_id\"]"
   ]
  },
  {
   "cell_type": "code",
   "execution_count": 154,
   "metadata": {},
   "outputs": [],
   "source": [
    "Submission=DF[[\"ID\",\"attempts_range\"]]"
   ]
  },
  {
   "cell_type": "code",
   "execution_count": 155,
   "metadata": {},
   "outputs": [
    {
     "name": "stderr",
     "output_type": "stream",
     "text": [
      "C:\\Users\\user\\Anaconda3\\lib\\site-packages\\pandas\\core\\frame.py:4223: SettingWithCopyWarning: \n",
      "A value is trying to be set on a copy of a slice from a DataFrame\n",
      "\n",
      "See the caveats in the documentation: http://pandas.pydata.org/pandas-docs/stable/user_guide/indexing.html#returning-a-view-versus-a-copy\n",
      "  return super().rename(**kwargs)\n"
     ]
    }
   ],
   "source": [
    "Submission.rename(columns={'attemps_range':'attempts_range'},inplace=True)\n",
    "Submission.to_csv(\"Submission1.csv\")               "
   ]
  },
  {
   "cell_type": "markdown",
   "metadata": {},
   "source": [
    "Finallay i get 0.2955716883 score in analyticsvidhya Leaderboard:(((((("
   ]
  },
  {
   "cell_type": "code",
   "execution_count": null,
   "metadata": {},
   "outputs": [],
   "source": []
  }
 ],
 "metadata": {
  "kernelspec": {
   "display_name": "Python 3",
   "language": "python",
   "name": "python3"
  },
  "language_info": {
   "codemirror_mode": {
    "name": "ipython",
    "version": 3
   },
   "file_extension": ".py",
   "mimetype": "text/x-python",
   "name": "python",
   "nbconvert_exporter": "python",
   "pygments_lexer": "ipython3",
   "version": "3.7.4"
  }
 },
 "nbformat": 4,
 "nbformat_minor": 2
}
