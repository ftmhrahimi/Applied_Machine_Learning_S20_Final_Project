{
 "cells": [
  {
   "cell_type": "markdown",
   "metadata": {},
   "source": [
    "# Import Libraries"
   ]
  },
  {
   "cell_type": "code",
   "execution_count": 152,
   "metadata": {},
   "outputs": [],
   "source": [
    "import numpy as np\n",
    "import pandas as pd\n",
    "import matplotlib.pyplot as plt\n",
    "import seaborn as sns\n",
    "from sklearn import preprocessing\n",
    "import re"
   ]
  },
  {
   "cell_type": "markdown",
   "metadata": {},
   "source": [
    "# Import Data"
   ]
  },
  {
   "cell_type": "code",
   "execution_count": 153,
   "metadata": {},
   "outputs": [],
   "source": [
    "TrainData=pd.read_csv(\"train_submissions.csv\")\n",
    "ProblemData=pd.read_csv(\"problem_data.csv\")\n",
    "UserData=pd.read_csv(\"user_data.csv\")"
   ]
  },
  {
   "cell_type": "markdown",
   "metadata": {},
   "source": [
    "# preproccesing"
   ]
  },
  {
   "cell_type": "code",
   "execution_count": 154,
   "metadata": {},
   "outputs": [
    {
     "data": {
      "text/plain": [
       "user_id           0\n",
       "problem_id        0\n",
       "attempts_range    0\n",
       "dtype: int64"
      ]
     },
     "execution_count": 154,
     "metadata": {},
     "output_type": "execute_result"
    }
   ],
   "source": [
    "TrainData.isnull().sum()"
   ]
  },
  {
   "cell_type": "code",
   "execution_count": 155,
   "metadata": {},
   "outputs": [
    {
     "data": {
      "text/plain": [
       "user_id                         0\n",
       "submission_count                0\n",
       "problem_solved                  0\n",
       "contribution                    0\n",
       "country                      1153\n",
       "follower_count                  0\n",
       "last_online_time_seconds        0\n",
       "max_rating                      0\n",
       "rating                          0\n",
       "rank                            0\n",
       "registration_time_seconds       0\n",
       "dtype: int64"
      ]
     },
     "execution_count": 155,
     "metadata": {},
     "output_type": "execute_result"
    }
   ],
   "source": [
    "UserData.isnull().sum()"
   ]
  },
  {
   "cell_type": "code",
   "execution_count": 156,
   "metadata": {},
   "outputs": [
    {
     "data": {
      "text/plain": [
       "problem_id       0\n",
       "level_type     133\n",
       "points        3917\n",
       "tags          3484\n",
       "dtype: int64"
      ]
     },
     "execution_count": 156,
     "metadata": {},
     "output_type": "execute_result"
    }
   ],
   "source": [
    "ProblemData.isnull().sum()"
   ]
  },
  {
   "cell_type": "markdown",
   "metadata": {},
   "source": [
    "## Imputing miss value\n",
    "Strategy for imputing the null values will be based on the ratio of occurence of the countries in the rest of the data. For example, India occured 25.6% and Bangladesh occured 13.6% and so on. We will use this ratio of all the countries to fill the missing data."
   ]
  },
  {
   "cell_type": "code",
   "execution_count": 157,
   "metadata": {},
   "outputs": [],
   "source": [
    "#Getting all the ratios\n",
    "country_data = (UserData[\"country\"].value_counts()/UserData[\"country\"].count())\n",
    "#imputing missing values\n",
    "UserData[\"country\"]= UserData[\"country\"].fillna(pd.Series(np.random.choice(country_data.index,p=country_data.values, size=len(UserData))))"
   ]
  },
  {
   "cell_type": "code",
   "execution_count": 158,
   "metadata": {},
   "outputs": [],
   "source": [
    "level_type_data = (ProblemData[\"level_type\"].value_counts()/ProblemData[\"level_type\"].count())\n",
    "ProblemData[\"level_type\"]= ProblemData[\"level_type\"].fillna(pd.Series(np.random.choice(level_type_data.index,p=level_type_data.values, size=len(ProblemData))))\n",
    "ProblemData[\"tags\"].fillna(\"other\", inplace=True)\n",
    "ProblemData.fillna(ProblemData.mean(), inplace=True)"
   ]
  },
  {
   "cell_type": "markdown",
   "metadata": {},
   "source": [
    "## Encoding categorical data"
   ]
  },
  {
   "cell_type": "code",
   "execution_count": 159,
   "metadata": {},
   "outputs": [
    {
     "data": {
      "text/plain": [
       "user_id           object\n",
       "problem_id        object\n",
       "attempts_range     int64\n",
       "dtype: object"
      ]
     },
     "execution_count": 159,
     "metadata": {},
     "output_type": "execute_result"
    }
   ],
   "source": [
    "TrainData.dtypes"
   ]
  },
  {
   "cell_type": "code",
   "execution_count": 160,
   "metadata": {},
   "outputs": [],
   "source": [
    "TrainData['user_id'] = TrainData['user_id'].apply(lambda x: re.search(r'\\d+', x).group()).astype(int)\n",
    "TrainData['problem_id'] = TrainData['problem_id'].apply(lambda x: re.search(r'\\d+', x).group()).astype(int)"
   ]
  },
  {
   "cell_type": "code",
   "execution_count": 161,
   "metadata": {},
   "outputs": [
    {
     "data": {
      "text/plain": [
       "user_id                       object\n",
       "submission_count               int64\n",
       "problem_solved                 int64\n",
       "contribution                   int64\n",
       "country                       object\n",
       "follower_count                 int64\n",
       "last_online_time_seconds       int64\n",
       "max_rating                   float64\n",
       "rating                       float64\n",
       "rank                          object\n",
       "registration_time_seconds      int64\n",
       "dtype: object"
      ]
     },
     "execution_count": 161,
     "metadata": {},
     "output_type": "execute_result"
    }
   ],
   "source": [
    "UserData.dtypes"
   ]
  },
  {
   "cell_type": "code",
   "execution_count": 162,
   "metadata": {},
   "outputs": [],
   "source": [
    "UserData['user_id'] = UserData['user_id'].apply(lambda x: re.search(r'\\d+', x).group()).astype(int)\n",
    "UserData[\"rank\"]=UserData[\"rank\"].replace(['beginner','intermediate','advanced','expert'],[1,2,3,4])\n",
    "UserData['country'] = UserData['country'].astype('category')\n",
    "UserData['country'] = UserData['country'].cat.codes"
   ]
  },
  {
   "cell_type": "code",
   "execution_count": 163,
   "metadata": {},
   "outputs": [
    {
     "data": {
      "text/plain": [
       "problem_id     object\n",
       "level_type     object\n",
       "points        float64\n",
       "tags           object\n",
       "dtype: object"
      ]
     },
     "execution_count": 163,
     "metadata": {},
     "output_type": "execute_result"
    }
   ],
   "source": [
    "ProblemData.dtypes"
   ]
  },
  {
   "cell_type": "code",
   "execution_count": 164,
   "metadata": {},
   "outputs": [],
   "source": [
    "ProblemData[\"level_type\"]=ProblemData[\"level_type\"].replace(['A' ,\"B\",\"C\",\"D\",\"E\",\"F\",\"G\",\"H\",\"I\",\"J\",\"K\",\"L\",\"M\",\"N\"],\n",
    "                                                          [ 1,2,3,4,5,6,7,8,9,10,11,12,13,14])\n",
    "ProblemData['problem_id'] = ProblemData['problem_id'].apply(lambda x: re.search(r'\\d+', x).group()).astype(int)\n",
    "ProblemData['tags'] = ProblemData['tags'].astype('category')\n",
    "ProblemData['tags'] =ProblemData['tags'].cat.codes"
   ]
  },
  {
   "cell_type": "markdown",
   "metadata": {},
   "source": [
    "## Scaling some feature"
   ]
  },
  {
   "cell_type": "code",
   "execution_count": 165,
   "metadata": {},
   "outputs": [],
   "source": [
    "UserData[\"contribution\"]=(UserData[\"contribution\"]-UserData[\"contribution\"].min())/UserData[\"contribution\"].max()\n",
    "ProblemData['points']=(ProblemData['points']-ProblemData['points'].min())/(ProblemData['points'].max()-ProblemData['points'].min())"
   ]
  },
  {
   "cell_type": "markdown",
   "metadata": {},
   "source": [
    "## add new feature\n",
    "add new feature as duration(days) that user is in the platform."
   ]
  },
  {
   "cell_type": "code",
   "execution_count": 166,
   "metadata": {},
   "outputs": [],
   "source": [
    "UserData[\"duration\"]=(UserData['registration_time_seconds']-UserData['last_online_time_seconds'])/(24*3600)\n",
    "UserData=UserData.drop([\"registration_time_seconds\",\"last_online_time_seconds\"],axis=1)"
   ]
  },
  {
   "cell_type": "code",
   "execution_count": 167,
   "metadata": {
    "scrolled": true
   },
   "outputs": [
    {
     "data": {
      "image/png": "[encoded data removed]",
      "text/plain": [
       "<Figure size 720x720 with 20 Axes>"
      ]
     },
     "metadata": {
      "needs_background": "light"
     },
     "output_type": "display_data"
    }
   ],
   "source": [
    "ax = sns.pairplot(UserData[[\"submission_count\", \"problem_solved\", \"rating\", \"rank\"]])"
   ]
  },
  {
   "cell_type": "markdown",
   "metadata": {},
   "source": [
    "So what do the above pair plots tell us?\n",
    "\n",
    "1.Higher number of submissions were made by fewer number of users\n",
    "\n",
    "2.Higher count of problems were solved by fewer number of users\n",
    "\n",
    "3.The rating of users is uniformly spread, and most are with a rating somewhere in the middle\n",
    "\n",
    "4.Majority users are at an intermediate and beginner level, with very few experts\n",
    "\n",
    "5.Rating is not directly proportional to the number of problems solved or submissions - this means that difficulty level should have played a part"
   ]
  },
  {
   "cell_type": "markdown",
   "metadata": {},
   "source": [
    "# Multiclass Classification"
   ]
  },
  {
   "cell_type": "markdown",
   "metadata": {},
   "source": [
    "##  Merging  Files"
   ]
  },
  {
   "cell_type": "code",
   "execution_count": 168,
   "metadata": {},
   "outputs": [],
   "source": [
    "df = pd.merge(TrainData,UserData,how = 'left',on = \"user_id\")\n",
    "df = pd.merge(df,ProblemData,how = 'left',on = \"problem_id\")\n",
    "X=df.drop(\"attempts_range\",axis=1)\n",
    "y=df[\"attempts_range\"]"
   ]
  },
  {
   "cell_type": "markdown",
   "metadata": {},
   "source": [
    "## Feature Scaling"
   ]
  },
  {
   "cell_type": "code",
   "execution_count": 169,
   "metadata": {},
   "outputs": [],
   "source": [
    "#from sklearn.preprocessing import StandardScaler\n",
    "#scaler = StandardScaler()\n",
    "#X = scaler.fit_transform(X)"
   ]
  },
  {
   "cell_type": "markdown",
   "metadata": {},
   "source": [
    "## SGD Classifer"
   ]
  },
  {
   "cell_type": "code",
   "execution_count": 170,
   "metadata": {},
   "outputs": [
    {
     "data": {
      "text/plain": [
       "SGDClassifier(random_state=42)"
      ]
     },
     "execution_count": 170,
     "metadata": {},
     "output_type": "execute_result"
    }
   ],
   "source": [
    "from sklearn.linear_model import SGDClassifier\n",
    "sgd_clf1 = SGDClassifier(random_state=42)\n",
    "sgd_clf1.fit(X, y)"
   ]
  },
  {
   "cell_type": "markdown",
   "metadata": {},
   "source": [
    "### Vadilation"
   ]
  },
  {
   "cell_type": "code",
   "execution_count": 171,
   "metadata": {},
   "outputs": [
    {
     "data": {
      "text/plain": [
       "array([0.5326572 , 0.52790496, 0.53047426])"
      ]
     },
     "execution_count": 171,
     "metadata": {},
     "output_type": "execute_result"
    }
   ],
   "source": [
    "from sklearn.model_selection import cross_val_score\n",
    "cross_val_score(sgd_clf1, X, y, cv=3, scoring=\"accuracy\")"
   ]
  },
  {
   "cell_type": "markdown",
   "metadata": {},
   "source": [
    "### Confusion matrix"
   ]
  },
  {
   "cell_type": "code",
   "execution_count": 172,
   "metadata": {},
   "outputs": [
    {
     "data": {
      "image/png": "[encoded data removed]",
      "text/plain": [
       "<Figure size 288x288 with 1 Axes>"
      ]
     },
     "metadata": {
      "needs_background": "light"
     },
     "output_type": "display_data"
    }
   ],
   "source": [
    "from sklearn.model_selection import cross_val_predict\n",
    "from sklearn.metrics import confusion_matrix\n",
    "y_pred3 = cross_val_predict(sgd_clf1, X, y, cv=3)\n",
    "conf_mx3 = confusion_matrix(y, y_pred3)\n",
    "plt.matshow(conf_mx3, cmap=plt.cm.gray)\n",
    "plt.show()"
   ]
  },
  {
   "cell_type": "markdown",
   "metadata": {},
   "source": [
    "## Random Forest"
   ]
  },
  {
   "cell_type": "code",
   "execution_count": 173,
   "metadata": {},
   "outputs": [
    {
     "data": {
      "text/plain": [
       "RandomForestClassifier(criterion='entropy', random_state=84)"
      ]
     },
     "execution_count": 173,
     "metadata": {},
     "output_type": "execute_result"
    }
   ],
   "source": [
    "from sklearn.ensemble import RandomForestClassifier\n",
    "from sklearn.model_selection import cross_val_score\n",
    "forest_clf1 = RandomForestClassifier(n_estimators = 100, criterion = 'entropy', random_state = 84)\n",
    "forest_clf1.fit(X, y)"
   ]
  },
  {
   "cell_type": "markdown",
   "metadata": {},
   "source": [
    "### Validation"
   ]
  },
  {
   "cell_type": "code",
   "execution_count": 174,
   "metadata": {},
   "outputs": [
    {
     "data": {
      "text/plain": [
       "array([0.50194791, 0.50548955, 0.50278502, 0.5029782 , 0.5060047 ])"
      ]
     },
     "execution_count": 174,
     "metadata": {},
     "output_type": "execute_result"
    }
   ],
   "source": [
    "cross_val_score(forest_clf1, X, y, cv=5, scoring=\"accuracy\")"
   ]
  },
  {
   "cell_type": "markdown",
   "metadata": {},
   "source": [
    "### Confusion matrix"
   ]
  },
  {
   "cell_type": "code",
   "execution_count": 175,
   "metadata": {},
   "outputs": [
    {
     "data": {
      "image/png": "[encoded data removed]",
      "text/plain": [
       "<Figure size 288x288 with 1 Axes>"
      ]
     },
     "metadata": {
      "needs_background": "light"
     },
     "output_type": "display_data"
    }
   ],
   "source": [
    "from sklearn.model_selection import cross_val_predict\n",
    "from sklearn.metrics import confusion_matrix\n",
    "y_pred1 = cross_val_predict(forest_clf1, X, y, cv=3)\n",
    "conf_mx1 = confusion_matrix(y, y_pred1)\n",
    "plt.matshow(conf_mx1, cmap=plt.cm.gray)\n",
    "plt.show()"
   ]
  },
  {
   "cell_type": "markdown",
   "metadata": {},
   "source": [
    "# Resampling\n",
    "why we need resampling?\n"
   ]
  },
  {
   "cell_type": "code",
   "execution_count": 176,
   "metadata": {},
   "outputs": [
    {
     "data": {
      "text/plain": [
       "<matplotlib.axes._subplots.AxesSubplot at 0x1354ae148>"
      ]
     },
     "execution_count": 176,
     "metadata": {},
     "output_type": "execute_result"
    },
    {
     "data": {
      "image/png": "[encoded data removed]",
      "text/plain": [
       "<Figure size 432x288 with 1 Axes>"
      ]
     },
     "metadata": {
      "needs_background": "light"
     },
     "output_type": "display_data"
    }
   ],
   "source": [
    "target_count = df.attempts_range.value_counts()\n",
    "target_count.plot(kind='bar', title='Count (target)')"
   ]
  },
  {
   "cell_type": "code",
   "execution_count": 177,
   "metadata": {},
   "outputs": [],
   "source": [
    "from sklearn.utils import resample"
   ]
  },
  {
   "cell_type": "code",
   "execution_count": 178,
   "metadata": {},
   "outputs": [],
   "source": [
    "class6 = df[df.attempts_range==6]\n",
    "class5 = df[df.attempts_range==5]\n",
    "class4 = df[df.attempts_range==4]\n",
    "class3 = df[df.attempts_range==3]\n",
    "class2 = df[df.attempts_range==2]\n",
    "class1 = df[df.attempts_range==1]\n",
    "k=len(class2)"
   ]
  },
  {
   "cell_type": "markdown",
   "metadata": {},
   "source": [
    "##  Oversampling Minority Class"
   ]
  },
  {
   "cell_type": "code",
   "execution_count": 179,
   "metadata": {},
   "outputs": [],
   "source": [
    "class6_upsampled = resample(class6,replace=True,n_samples=k,random_state=27)\n",
    "class5_upsampled = resample(class5,replace=True,n_samples=k,random_state=27)\n",
    "class4_upsampled = resample(class4,replace=True,n_samples=k,random_state=27)\n",
    "class3_upsampled = resample(class3,replace=True,n_samples=k,random_state=27)\n",
    "class1_undersampled = resample(class1,replace=True,n_samples=k,random_state=27)\n",
    "df2= pd.concat([class2,class1_undersampled,class3_upsampled,class4_upsampled,class5_upsampled,class6_upsampled])"
   ]
  },
  {
   "cell_type": "code",
   "execution_count": 180,
   "metadata": {},
   "outputs": [
    {
     "data": {
      "text/plain": [
       "<matplotlib.axes._subplots.AxesSubplot at 0x134fbc9c8>"
      ]
     },
     "execution_count": 180,
     "metadata": {},
     "output_type": "execute_result"
    },
    {
     "data": {
      "image/png": "[encoded data removed]",
      "text/plain": [
       "<Figure size 432x288 with 1 Axes>"
      ]
     },
     "metadata": {
      "needs_background": "light"
     },
     "output_type": "display_data"
    }
   ],
   "source": [
    "target_count = df2.attempts_range.value_counts()\n",
    "target_count.plot(kind='bar', title='Count (target)')"
   ]
  },
  {
   "cell_type": "markdown",
   "metadata": {},
   "source": [
    "## Random Forest"
   ]
  },
  {
   "cell_type": "code",
   "execution_count": 181,
   "metadata": {},
   "outputs": [
    {
     "data": {
      "text/plain": [
       "RandomForestClassifier(random_state=42)"
      ]
     },
     "execution_count": 181,
     "metadata": {},
     "output_type": "execute_result"
    }
   ],
   "source": [
    "X=df2.drop(['attempts_range'],axis=1)\n",
    "y=df2[\"attempts_range\"]\n",
    "from sklearn.ensemble import RandomForestClassifier\n",
    "forest_clf = RandomForestClassifier(random_state=42)\n",
    "forest_clf.fit(X, y)"
   ]
  },
  {
   "cell_type": "markdown",
   "metadata": {},
   "source": [
    "### Validation"
   ]
  },
  {
   "cell_type": "code",
   "execution_count": 182,
   "metadata": {},
   "outputs": [
    {
     "data": {
      "text/plain": [
       "array([0.84705199, 0.84714004, 0.84719287, 0.84742181, 0.84611862])"
      ]
     },
     "execution_count": 182,
     "metadata": {},
     "output_type": "execute_result"
    }
   ],
   "source": [
    "from sklearn.model_selection import cross_val_score\n",
    "cross_val_score(forest_clf, X, y, cv=5, scoring=\"accuracy\")"
   ]
  },
  {
   "cell_type": "markdown",
   "metadata": {},
   "source": [
    "### Confusion Matrix"
   ]
  },
  {
   "cell_type": "code",
   "execution_count": 183,
   "metadata": {},
   "outputs": [
    {
     "name": "stdout",
     "output_type": "stream",
     "text": [
      "[[29244 12768  3321  1135   402   450]\n",
      " [14991 21864  6340  2251   839  1035]\n",
      " [ 1269  2488 42940   329   117   177]\n",
      " [   30    81    27 47174     0     8]\n",
      " [    0     0     0     0 47320     0]\n",
      " [    0     0     0     0     0 47320]]\n"
     ]
    },
    {
     "data": {
      "image/png": "[encoded data removed]",
      "text/plain": [
       "<Figure size 288x288 with 1 Axes>"
      ]
     },
     "metadata": {
      "needs_background": "light"
     },
     "output_type": "display_data"
    }
   ],
   "source": [
    "from sklearn.model_selection import cross_val_predict\n",
    "from sklearn.metrics import confusion_matrix\n",
    "y_pred = cross_val_predict(forest_clf, X, y, cv=3)\n",
    "conf_mx = confusion_matrix(y, y_pred)\n",
    "print(conf_mx)\n",
    "plt.matshow(conf_mx, cmap=plt.cm.gray)\n",
    "plt.show()"
   ]
  },
  {
   "cell_type": "markdown",
   "metadata": {},
   "source": [
    "# Prediction in test set"
   ]
  },
  {
   "cell_type": "code",
   "execution_count": 184,
   "metadata": {},
   "outputs": [],
   "source": [
    "TestData=pd.read_csv(\"test_submissions.csv\")\n",
    "TestData['user_id'] = TestData['user_id'].apply(lambda x: re.search(r'\\d+', x).group()).astype(int)\n",
    "TestData['problem_id'] = TestData['problem_id'].apply(lambda x: re.search(r'\\d+', x).group()).astype(int)"
   ]
  },
  {
   "cell_type": "code",
   "execution_count": 185,
   "metadata": {},
   "outputs": [],
   "source": [
    "testdf = pd.merge(TestData,UserData,how = 'left',on = \"user_id\")\n",
    "testdf = pd.merge(testdf,ProblemData,how = 'left',on = \"problem_id\")\n",
    "testdf=testdf.drop(\"ID\",axis=1)\n",
    "testdf[\"attempts_range\"]=forest_clf.predict(testdf)"
   ]
  },
  {
   "cell_type": "markdown",
   "metadata": {},
   "source": [
    "## Prepare for analyticsvidhya"
   ]
  },
  {
   "cell_type": "code",
   "execution_count": 188,
   "metadata": {},
   "outputs": [
    {
     "name": "stderr",
     "output_type": "stream",
     "text": [
      "C:\\Users\\user\\Anaconda3\\lib\\site-packages\\ipykernel_launcher.py:2: SettingWithCopyWarning: \n",
      "A value is trying to be set on a copy of a slice from a DataFrame.\n",
      "Try using .loc[row_indexer,col_indexer] = value instead\n",
      "\n",
      "See the caveats in the documentation: http://pandas.pydata.org/pandas-docs/stable/user_guide/indexing.html#returning-a-view-versus-a-copy\n",
      "  \n",
      "C:\\Users\\user\\Anaconda3\\lib\\site-packages\\ipykernel_launcher.py:3: SettingWithCopyWarning: \n",
      "A value is trying to be set on a copy of a slice from a DataFrame.\n",
      "Try using .loc[row_indexer,col_indexer] = value instead\n",
      "\n",
      "See the caveats in the documentation: http://pandas.pydata.org/pandas-docs/stable/user_guide/indexing.html#returning-a-view-versus-a-copy\n",
      "  This is separate from the ipykernel package so we can avoid doing imports until\n",
      "C:\\Users\\user\\Anaconda3\\lib\\site-packages\\ipykernel_launcher.py:9: SettingWithCopyWarning: \n",
      "A value is trying to be set on a copy of a slice from a DataFrame.\n",
      "Try using .loc[row_indexer,col_indexer] = value instead\n",
      "\n",
      "See the caveats in the documentation: http://pandas.pydata.org/pandas-docs/stable/user_guide/indexing.html#returning-a-view-versus-a-copy\n",
      "  if __name__ == '__main__':\n"
     ]
    }
   ],
   "source": [
    "DF=testdf[[\"user_id\",\"problem_id\",\"attempts_range\"]]\n",
    "DF[\"user_id\"]=DF[\"user_id\"].astype(str)\n",
    "DF[\"problem_id\"]=DF[\"problem_id\"].astype(str)\n",
    "\n",
    "#DF[\"user_id\"]=\"user_\"+DF[\"user_id\"].astype(str)\n",
    "#DF.reset_index(inplace=True)\n",
    "#DF[\"problem_id\"]=\"_prob_\"+DF[\"problem_id\"].astype(str)\n",
    "\n",
    "DF[\"ID\"]=\"user_\"+DF[\"user_id\"]+\"_prob_\"+DF[\"problem_id\"]\n",
    "DF=DF[[\"ID\",\"attempts_range\"]]"
   ]
  },
  {
   "cell_type": "code",
   "execution_count": 189,
   "metadata": {},
   "outputs": [],
   "source": [
    "DF.to_csv(\"Submission1.csv\")"
   ]
  },
  {
   "cell_type": "markdown",
   "metadata": {},
   "source": [
    "Finallay i get 0.4133366210542243.\n",
    " \n",
    " "
   ]
  },
  {
   "cell_type": "code",
   "execution_count": null,
   "metadata": {},
   "outputs": [],
   "source": []
  }
 ],
 "metadata": {
  "kernelspec": {
   "display_name": "Python 3",
   "language": "python",
   "name": "python3"
  },
  "language_info": {
   "codemirror_mode": {
    "name": "ipython",
    "version": 3
   },
   "file_extension": ".py",
   "mimetype": "text/x-python",
   "name": "python",
   "nbconvert_exporter": "python",
   "pygments_lexer": "ipython3",
   "version": "3.7.4"
  }
 },
 "nbformat": 4,
 "nbformat_minor": 2
}
